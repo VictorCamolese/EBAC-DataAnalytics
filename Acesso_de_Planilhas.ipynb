{
  "nbformat": 4,
  "nbformat_minor": 0,
  "metadata": {
    "colab": {
      "provenance": [],
      "collapsed_sections": [
        "CUda0iL2T3Vh",
        "KzwGNAPb3ADK",
        "8jl0dBUlimbg",
        "b97-3AATivgS",
        "g3fPrb7Xi8oR",
        "C0xMoLfCHycK"
      ],
      "toc_visible": true
    },
    "kernelspec": {
      "name": "python3",
      "display_name": "Python 3"
    },
    "language_info": {
      "name": "python"
    }
  },
  "cells": [
    {
      "cell_type": "markdown",
      "source": [
        "#*TREINANDO ACESSO DE PLANILHAS*"
      ],
      "metadata": {
        "id": "wmuOmz1Y3CUM"
      }
    },
    {
      "cell_type": "markdown",
      "source": [
        "# Planilhas ML Vecol"
      ],
      "metadata": {
        "id": "g79O8WHRVSik"
      }
    },
    {
      "cell_type": "markdown",
      "source": [
        "## Acessando com Pandas\n"
      ],
      "metadata": {
        "id": "WvRYO5fwVjNt"
      }
    },
    {
      "cell_type": "code",
      "source": [
        "import pandas as pd\n",
        "# abrindo a planilha de Janeiro e printando a tabela no formato do Pandas\n",
        "planilha = pd.read_excel('ML e PIX - Janeiro 2023.xlsx')\n",
        "display(planilha)"
      ],
      "metadata": {
        "id": "tx9qLvHKTMt8"
      },
      "execution_count": null,
      "outputs": []
    },
    {
      "cell_type": "code",
      "source": [
        "# Selecionando a coluna de valores de compras da tabela\n",
        "valor_compras = planilha['Unnamed: 5']\n",
        "print(valor_compras)"
      ],
      "metadata": {
        "id": "WY7Z5b3gPK1R"
      },
      "execution_count": null,
      "outputs": []
    },
    {
      "cell_type": "code",
      "source": [
        "from math import isnan\n",
        "from statistics import mean\n",
        "\n",
        "# adicionando os valores de compras na lista valores[]\n",
        "valores = []\n",
        "for i in valor_compras:\n",
        "  valores.append(i)\n",
        "\n",
        "# filtrando os valores da lista somente pelos numeros\n",
        "# aqui utilizamos o 'isinstance' para selecionar as instancias que são \n",
        "# somente ints e floats\n",
        "valores_filtrado = list(filter(lambda i: isinstance(i, (int, float)), valores))\n",
        "valores_filtrado = list(filter(lambda i: not isnan(i), valores_filtrado))\n",
        "valores_filtrado.remove(valores_filtrado[-1])\n",
        "\n",
        "# fazendo a media e soma das compras\n",
        "media_compras = round(mean(valores_filtrado), 2)\n",
        "total_compras = sum(valores_filtrado)\n",
        "\n",
        "print(f'ML VECOL JANEIRO\\nmedia de compras: {media_compras}\\nvalor total de compras: {total_compras}')"
      ],
      "metadata": {
        "id": "lT_W04qNFL-i"
      },
      "execution_count": null,
      "outputs": []
    },
    {
      "cell_type": "markdown",
      "source": [
        "Capturando agora a da planilha de Fevereiro, com código mais enxuto"
      ],
      "metadata": {
        "id": "lM4OGsZ7T-Vj"
      }
    },
    {
      "cell_type": "code",
      "source": [
        "planilha_fev = pd.read_excel('ML e PIX - Fevereiro 2023.xlsx')\n",
        "valor_compras_fev = planilha_fev['Unnamed: 5']\n",
        "\n",
        "# adicionando os valores de compras na lista valores[]\n",
        "valores = []\n",
        "for i in valor_compras_fev:\n",
        "  valores.append(i)\n",
        "\n",
        "# filtrando os valores da lista somente pelos numeros\n",
        "valores_filtrado = list(filter(lambda i: isinstance(i, (int, float)) and not isnan(i), valores))\n",
        "valores_filtrado.remove(valores_filtrado[-1])\n",
        "\n",
        "# fazendo a media e soma das compras\n",
        "media_compras2 = round(mean(valores_filtrado), 2)\n",
        "total_compras2 = sum(valores_filtrado)\n",
        "print(f'ML VECOL FEVEREIRO\\nmedia de compras: {round(media_compras2, 2)}\\nvalor total de compras: {total_compras2}')"
      ],
      "metadata": {
        "colab": {
          "base_uri": "https://localhost:8080/"
        },
        "id": "hD-VZTpFQqZH",
        "outputId": "4bc412e5-e96b-41cc-ca2f-2b4ad9a1cd41"
      },
      "execution_count": 11,
      "outputs": [
        {
          "output_type": "stream",
          "name": "stdout",
          "text": [
            "ML VECOL FEVEREIRO\n",
            "media de compras: 367.15\n",
            "valor total de compras: 7343.08\n"
          ]
        }
      ]
    },
    {
      "cell_type": "markdown",
      "source": [
        "---"
      ],
      "metadata": {
        "id": "KmtscbCoCc6N"
      }
    },
    {
      "cell_type": "markdown",
      "source": [
        "## Usando o openpyxl"
      ],
      "metadata": {
        "id": "CUda0iL2T3Vh"
      }
    },
    {
      "cell_type": "code",
      "source": [
        "!pip install openpyxl"
      ],
      "metadata": {
        "id": "uXwC5ZtkW0kX"
      },
      "execution_count": null,
      "outputs": []
    },
    {
      "cell_type": "code",
      "execution_count": null,
      "metadata": {
        "id": "l50O7m33VRy_"
      },
      "outputs": [],
      "source": [
        "from openpyxl import load_workbook\n",
        "from traitlets.traitlets import validate\n",
        "import csv\n",
        "\n",
        "planilhas = load_workbook('ML e PIX - Janeiro 2023.xlsx')\n",
        "planilha = planilhas.active\n"
      ]
    },
    {
      "cell_type": "markdown",
      "source": [
        "# Planilha de Crédito de banco"
      ],
      "metadata": {
        "id": "KzwGNAPb3ADK"
      }
    },
    {
      "cell_type": "code",
      "source": [
        "# acessando planilha e verificando as informações disponiveis nela\n",
        "import pandas as pd\n",
        "planilha = pd.read_excel('credito.xlsx')\n",
        "planilha.head(3)"
      ],
      "metadata": {
        "colab": {
          "base_uri": "https://localhost:8080/",
          "height": 225
        },
        "id": "F0GVRkAa3egh",
        "outputId": "70ccd050-1c55-448c-b2ae-18e26bc055f6"
      },
      "execution_count": 1,
      "outputs": [
        {
          "output_type": "execute_result",
          "data": {
            "text/plain": [
              "          id  default  idade sexo  dependentes  escolaridade estado_civil  \\\n",
              "0  768805383        0     45    M            3  ensino medio       casado   \n",
              "1  818770008        0     49    F            5      mestrado     solteiro   \n",
              "2  713982108        0     51    M            3      mestrado       casado   \n",
              "\n",
              "    salario_anual tipo_cartao  meses_de_relacionamento  qtd_produtos  \\\n",
              "0     $60K - $80K        blue                       39             5   \n",
              "1  menos que $40K        blue                       44             6   \n",
              "2    $80K - $120K        blue                       36             4   \n",
              "\n",
              "   iteracoes_12m  meses_inativo_12m  limite_credito  valor_transacoes_12m  \\\n",
              "0              3                  1        12691.51               1144.90   \n",
              "1              2                  1         8256.96               1291.45   \n",
              "2              0                  1         3418.56               1887.72   \n",
              "\n",
              "   qtd_transacoes_12m  \n",
              "0                  42  \n",
              "1                  33  \n",
              "2                  20  "
            ],
            "text/html": [
              "\n",
              "  <div id=\"df-a0031caf-b705-4232-9357-8c7fbaa0a624\">\n",
              "    <div class=\"colab-df-container\">\n",
              "      <div>\n",
              "<style scoped>\n",
              "    .dataframe tbody tr th:only-of-type {\n",
              "        vertical-align: middle;\n",
              "    }\n",
              "\n",
              "    .dataframe tbody tr th {\n",
              "        vertical-align: top;\n",
              "    }\n",
              "\n",
              "    .dataframe thead th {\n",
              "        text-align: right;\n",
              "    }\n",
              "</style>\n",
              "<table border=\"1\" class=\"dataframe\">\n",
              "  <thead>\n",
              "    <tr style=\"text-align: right;\">\n",
              "      <th></th>\n",
              "      <th>id</th>\n",
              "      <th>default</th>\n",
              "      <th>idade</th>\n",
              "      <th>sexo</th>\n",
              "      <th>dependentes</th>\n",
              "      <th>escolaridade</th>\n",
              "      <th>estado_civil</th>\n",
              "      <th>salario_anual</th>\n",
              "      <th>tipo_cartao</th>\n",
              "      <th>meses_de_relacionamento</th>\n",
              "      <th>qtd_produtos</th>\n",
              "      <th>iteracoes_12m</th>\n",
              "      <th>meses_inativo_12m</th>\n",
              "      <th>limite_credito</th>\n",
              "      <th>valor_transacoes_12m</th>\n",
              "      <th>qtd_transacoes_12m</th>\n",
              "    </tr>\n",
              "  </thead>\n",
              "  <tbody>\n",
              "    <tr>\n",
              "      <th>0</th>\n",
              "      <td>768805383</td>\n",
              "      <td>0</td>\n",
              "      <td>45</td>\n",
              "      <td>M</td>\n",
              "      <td>3</td>\n",
              "      <td>ensino medio</td>\n",
              "      <td>casado</td>\n",
              "      <td>$60K - $80K</td>\n",
              "      <td>blue</td>\n",
              "      <td>39</td>\n",
              "      <td>5</td>\n",
              "      <td>3</td>\n",
              "      <td>1</td>\n",
              "      <td>12691.51</td>\n",
              "      <td>1144.90</td>\n",
              "      <td>42</td>\n",
              "    </tr>\n",
              "    <tr>\n",
              "      <th>1</th>\n",
              "      <td>818770008</td>\n",
              "      <td>0</td>\n",
              "      <td>49</td>\n",
              "      <td>F</td>\n",
              "      <td>5</td>\n",
              "      <td>mestrado</td>\n",
              "      <td>solteiro</td>\n",
              "      <td>menos que $40K</td>\n",
              "      <td>blue</td>\n",
              "      <td>44</td>\n",
              "      <td>6</td>\n",
              "      <td>2</td>\n",
              "      <td>1</td>\n",
              "      <td>8256.96</td>\n",
              "      <td>1291.45</td>\n",
              "      <td>33</td>\n",
              "    </tr>\n",
              "    <tr>\n",
              "      <th>2</th>\n",
              "      <td>713982108</td>\n",
              "      <td>0</td>\n",
              "      <td>51</td>\n",
              "      <td>M</td>\n",
              "      <td>3</td>\n",
              "      <td>mestrado</td>\n",
              "      <td>casado</td>\n",
              "      <td>$80K - $120K</td>\n",
              "      <td>blue</td>\n",
              "      <td>36</td>\n",
              "      <td>4</td>\n",
              "      <td>0</td>\n",
              "      <td>1</td>\n",
              "      <td>3418.56</td>\n",
              "      <td>1887.72</td>\n",
              "      <td>20</td>\n",
              "    </tr>\n",
              "  </tbody>\n",
              "</table>\n",
              "</div>\n",
              "      <button class=\"colab-df-convert\" onclick=\"convertToInteractive('df-a0031caf-b705-4232-9357-8c7fbaa0a624')\"\n",
              "              title=\"Convert this dataframe to an interactive table.\"\n",
              "              style=\"display:none;\">\n",
              "        \n",
              "  <svg xmlns=\"http://www.w3.org/2000/svg\" height=\"24px\"viewBox=\"0 0 24 24\"\n",
              "       width=\"24px\">\n",
              "    <path d=\"M0 0h24v24H0V0z\" fill=\"none\"/>\n",
              "    <path d=\"M18.56 5.44l.94 2.06.94-2.06 2.06-.94-2.06-.94-.94-2.06-.94 2.06-2.06.94zm-11 1L8.5 8.5l.94-2.06 2.06-.94-2.06-.94L8.5 2.5l-.94 2.06-2.06.94zm10 10l.94 2.06.94-2.06 2.06-.94-2.06-.94-.94-2.06-.94 2.06-2.06.94z\"/><path d=\"M17.41 7.96l-1.37-1.37c-.4-.4-.92-.59-1.43-.59-.52 0-1.04.2-1.43.59L10.3 9.45l-7.72 7.72c-.78.78-.78 2.05 0 2.83L4 21.41c.39.39.9.59 1.41.59.51 0 1.02-.2 1.41-.59l7.78-7.78 2.81-2.81c.8-.78.8-2.07 0-2.86zM5.41 20L4 18.59l7.72-7.72 1.47 1.35L5.41 20z\"/>\n",
              "  </svg>\n",
              "      </button>\n",
              "      \n",
              "  <style>\n",
              "    .colab-df-container {\n",
              "      display:flex;\n",
              "      flex-wrap:wrap;\n",
              "      gap: 12px;\n",
              "    }\n",
              "\n",
              "    .colab-df-convert {\n",
              "      background-color: #E8F0FE;\n",
              "      border: none;\n",
              "      border-radius: 50%;\n",
              "      cursor: pointer;\n",
              "      display: none;\n",
              "      fill: #1967D2;\n",
              "      height: 32px;\n",
              "      padding: 0 0 0 0;\n",
              "      width: 32px;\n",
              "    }\n",
              "\n",
              "    .colab-df-convert:hover {\n",
              "      background-color: #E2EBFA;\n",
              "      box-shadow: 0px 1px 2px rgba(60, 64, 67, 0.3), 0px 1px 3px 1px rgba(60, 64, 67, 0.15);\n",
              "      fill: #174EA6;\n",
              "    }\n",
              "\n",
              "    [theme=dark] .colab-df-convert {\n",
              "      background-color: #3B4455;\n",
              "      fill: #D2E3FC;\n",
              "    }\n",
              "\n",
              "    [theme=dark] .colab-df-convert:hover {\n",
              "      background-color: #434B5C;\n",
              "      box-shadow: 0px 1px 3px 1px rgba(0, 0, 0, 0.15);\n",
              "      filter: drop-shadow(0px 1px 2px rgba(0, 0, 0, 0.3));\n",
              "      fill: #FFFFFF;\n",
              "    }\n",
              "  </style>\n",
              "\n",
              "      <script>\n",
              "        const buttonEl =\n",
              "          document.querySelector('#df-a0031caf-b705-4232-9357-8c7fbaa0a624 button.colab-df-convert');\n",
              "        buttonEl.style.display =\n",
              "          google.colab.kernel.accessAllowed ? 'block' : 'none';\n",
              "\n",
              "        async function convertToInteractive(key) {\n",
              "          const element = document.querySelector('#df-a0031caf-b705-4232-9357-8c7fbaa0a624');\n",
              "          const dataTable =\n",
              "            await google.colab.kernel.invokeFunction('convertToInteractive',\n",
              "                                                     [key], {});\n",
              "          if (!dataTable) return;\n",
              "\n",
              "          const docLinkHtml = 'Like what you see? Visit the ' +\n",
              "            '<a target=\"_blank\" href=https://colab.research.google.com/notebooks/data_table.ipynb>data table notebook</a>'\n",
              "            + ' to learn more about interactive tables.';\n",
              "          element.innerHTML = '';\n",
              "          dataTable['output_type'] = 'display_data';\n",
              "          await google.colab.output.renderOutput(dataTable, element);\n",
              "          const docLink = document.createElement('div');\n",
              "          docLink.innerHTML = docLinkHtml;\n",
              "          element.appendChild(docLink);\n",
              "        }\n",
              "      </script>\n",
              "    </div>\n",
              "  </div>\n",
              "  "
            ]
          },
          "metadata": {},
          "execution_count": 1
        }
      ]
    },
    {
      "cell_type": "markdown",
      "source": [
        "## Exercicio 1"
      ],
      "metadata": {
        "id": "8jl0dBUlimbg"
      }
    },
    {
      "cell_type": "markdown",
      "source": [
        " Qual é a média de idade dos clientes do sexo masculino que possuem um cartão do tipo \"blue\"?"
      ],
      "metadata": {
        "id": "W-_m2-6iwEKJ"
      }
    },
    {
      "cell_type": "code",
      "source": [
        "from statistics import mean\n",
        "dt_sexo = planilha['sexo']\n",
        "dt_cartao = planilha['tipo_cartao']\n",
        "dt_idade = planilha['idade']\n",
        "\n",
        "idades_mblue = []\n",
        "for i,c,s in zip(dt_idade,dt_cartao,dt_sexo):\n",
        "  if s == 'M' and c == 'blue':\n",
        "    idades_mblue.append(i)\n",
        "\n",
        "media_idades_mblue = round(mean(idades_mblue))\n",
        "print(f'média de idades dos homens com cartão Blue: {media_idades_mblue} anos')"
      ],
      "metadata": {
        "id": "7HFkP7vvwDOg"
      },
      "execution_count": null,
      "outputs": []
    },
    {
      "cell_type": "markdown",
      "source": [
        "## Exercicio 2"
      ],
      "metadata": {
        "id": "b97-3AATivgS"
      }
    },
    {
      "cell_type": "markdown",
      "source": [
        "---\n",
        "Qual é a porcentagem de clientes inadimplentes (default = 1) em cada faixa salarial (salario_anual)?"
      ],
      "metadata": {
        "id": "DeQY4otzzjfR"
      }
    },
    {
      "cell_type": "code",
      "source": [
        "# definindo as colunas a serem analisadas\n",
        "dt_salario_anual = planilha['salario_anual']\n",
        "dt_default = planilha['default']\n",
        "\n",
        "# vendo quais sao todos os tipos de salarios da planilha antes de filtrá-los\n",
        "# tipos_salarios = []\n",
        "# for linha in dt_salario_anual:\n",
        "  # tipos_salarios.append(linha)\n",
        "# tipos_salarios = list(set(tipos_salarios))\n",
        "# print(tipos_salarios)"
      ],
      "metadata": {
        "id": "GOFl1830M8YQ"
      },
      "execution_count": 73,
      "outputs": []
    },
    {
      "cell_type": "code",
      "source": [
        "# contando a quantidade de clientes em cada faixa salarial e armazenando nas variaveis\n",
        "client_40 = 0\n",
        "client_60 = 0\n",
        "client_80 = 0\n",
        "client_120 = 0\n",
        "client_mais120 = 0\n",
        "client_na = 0\n",
        "for s in dt_salario_anual:\n",
        "  if s == 'menos que $40K': client_40 = client_40 + 1\n",
        "  elif s == '$40K - $60K': client_60 = client_60 + 1\n",
        "  elif s == '$60K - $80K': client_80 = client_80 + 1\n",
        "  elif s == '$80K - $120K': client_120 = client_120 + 1\n",
        "  elif s == '$120K +': client_mais120 = client_mais120 + 1\n",
        "  elif s == 'na': client_na = client_na + 1\n",
        "\n",
        "# contando e armazenando a quantidade de inadimplentes em cada faixa salarial\n",
        "inadimplent_40 = 0\n",
        "inadimplent_60 = 0\n",
        "inadimplent_80 = 0\n",
        "inadimplent_120 = 0\n",
        "inadimplent_mais120 = 0\n",
        "inadimplent_na = 0\n",
        "for s,d in zip(dt_salario_anual,dt_default):\n",
        "  if s == 'menos que $40K' and d == 1: inadimplent_40 = inadimplent_40 + 1\n",
        "  elif s == '$40K - $60K' and d == 1: inadimplent_60 = inadimplent_60 + 1\n",
        "  elif s == '$60K - $80K' and d == 1: inadimplent_80 = inadimplent_80 + 1\n",
        "  elif s == '$80K - $120K' and d == 1: inadimplent_120 = inadimplent_120 + 1\n",
        "  elif s == '$120K +' and d == 1: inadimplent_mais120 = inadimplent_mais120 + 1\n",
        "  elif s == 'na' and d == 1: inadimplent_na = inadimplent_na + 1\n",
        "\n",
        "# print(f'quantidade de registros no banco: {len(dt_salario_anual)}')\n",
        "# print(f'quantidade de clientes por salario:\\nAte 40K: {client_40}\\nEntre 40-60K: {client_60}\\nEntre 60-80K: {client_80}\\nEntre 80-120K: {client_120}\\nMais de 120K: {client_mais120}\\nNA: {client_na}')"
      ],
      "metadata": {
        "id": "3AqCujtHOfR5"
      },
      "execution_count": 74,
      "outputs": []
    },
    {
      "cell_type": "code",
      "source": [
        "# funçao de calculo de porcentagem\n",
        "def porcentagem(menor,maior) -> float:\n",
        "  result = (float(menor)/float(maior)) *100\n",
        "  return str(round(result,2))+'%' \n",
        "\n",
        "print(f'porcentagem de inadimplentes do banco total:                   {porcentagem(1627,10127)}\\n---------------------------------------------------')\n",
        "print(f'porcentagem de inadimplentes - salario ate 40K anual:    {porcentagem(inadimplent_40,client_40)}')\n",
        "print(f'porcentagem de inadimplentes - salario de 40-60K anual:  {porcentagem(inadimplent_60,client_60)}')\n",
        "print(f'porcentagem de inadimplentes - salario de 60-80K anual:  {porcentagem(inadimplent_80,client_80)}')\n",
        "print(f'porcentagem de inadimplentes - salario de 80-120K anual: {porcentagem(inadimplent_120,client_120)}')\n",
        "print(f'porcentagem de inadimplentes - salario de +120K anual:   {porcentagem(inadimplent_mais120,client_mais120)}')\n",
        "print(f'porcentagem de inadimplentes - salario não informado:    {porcentagem(inadimplent_na,client_na)}')"
      ],
      "metadata": {
        "colab": {
          "base_uri": "https://localhost:8080/"
        },
        "id": "s9qwgJVlzijO",
        "outputId": "cbc72fb2-f5f7-435b-eb67-5919cf14ba69"
      },
      "execution_count": 75,
      "outputs": [
        {
          "output_type": "stream",
          "name": "stdout",
          "text": [
            "porcentagem de inadimplentes do banco total:                   16.07%\n",
            "---------------------------------------------------\n",
            "porcentagem de inadimplentes - salario ate 40K anual:    17.19%\n",
            "porcentagem de inadimplentes - salario de 40-60K anual:  15.14%\n",
            "porcentagem de inadimplentes - salario de 60-80K anual:  13.48%\n",
            "porcentagem de inadimplentes - salario de 80-120K anual: 15.77%\n",
            "porcentagem de inadimplentes - salario de +120K anual:   17.33%\n",
            "porcentagem de inadimplentes - salario não informado:    16.82%\n"
          ]
        }
      ]
    },
    {
      "cell_type": "markdown",
      "source": [
        "Gerando um gráfico da porcentagem dos inadimplentes em cada faixa salarial \\\n",
        "*dica do ChatGPT*"
      ],
      "metadata": {
        "id": "PJM3o_ZzdxhT"
      }
    },
    {
      "cell_type": "code",
      "source": [
        "import matplotlib.pyplot as plt\n",
        "\n",
        "# Dados para o gráfico\n",
        "faixas_salariais = ['$40K', '$60K', '$80K', '$120K', '+$120K', 'Não informado']\n",
        "porcentagens_inadimplentes = [inadimplent_40/client_40 * 100,\n",
        "                              inadimplent_60/client_60 * 100,\n",
        "                              inadimplent_80/client_80 * 100,\n",
        "                              inadimplent_120/client_120 * 100,\n",
        "                              inadimplent_mais120/client_mais120 * 100,\n",
        "                              inadimplent_na/client_na * 100]\n",
        "\n",
        "# Criando o DataFrame para o gráfico\n",
        "df_grafico = pd.DataFrame({'Faixa Salarial': faixas_salariais, 'Porcentagem Inadimplentes': porcentagens_inadimplentes})\n",
        "\n",
        "# Plotando o gráfico de barras\n",
        "ax = df_grafico.plot(x='Faixa Salarial', y='Porcentagem Inadimplentes', kind='bar', legend=False)\n",
        "ax.set_ylabel('Porcentagem Inadimplentes')\n",
        "ax.set_title('Porcentagem de Inadimplentes em Cada Faixa Salarial')\n",
        "\n",
        "# Exibindo o gráfico\n",
        "plt.show()"
      ],
      "metadata": {
        "colab": {
          "base_uri": "https://localhost:8080/",
          "height": 561
        },
        "id": "u0R_tNyPcVws",
        "outputId": "f1cda95f-9e56-4949-bd24-ed975c06105a"
      },
      "execution_count": 69,
      "outputs": [
        {
          "output_type": "display_data",
          "data": {
            "text/plain": [
              "<Figure size 640x480 with 1 Axes>"
            ],
            "image/png": "[encoded data removed]"
          },
          "metadata": {}
        }
      ]
    },
    {
      "cell_type": "markdown",
      "source": [
        "## Exercicio 3"
      ],
      "metadata": {
        "id": "g3fPrb7Xi8oR"
      }
    },
    {
      "cell_type": "markdown",
      "source": [
        "---\n",
        "Extraindo as idades e os salários anuais dos inadimplentes \\\n",
        "por fim, gerando o arquivo csv das informações"
      ],
      "metadata": {
        "id": "iefGbJNeITSK"
      }
    },
    {
      "cell_type": "code",
      "source": [
        "# selecionando as colunas que eu quero trabalhar\n",
        "dt_default = planilha['default']\n",
        "dt_idade = planilha['idade']\n",
        "dt_salario_anual = planilha['salario_anual']\n",
        "defaults = []\n",
        "idades = []\n",
        "salarios = []\n",
        "\n",
        "# adicionando nas listas somente a idade e salarios anuais dos inadimplentes\n",
        "for i, j, k in zip(dt_default, dt_idade, dt_salario_anual):\n",
        "  if i != 0:\n",
        "    defaults.append(i)\n",
        "    idades.append(j)\n",
        "    salarios.append(k)"
      ],
      "metadata": {
        "id": "_r-pg40EPjIh"
      },
      "execution_count": 11,
      "outputs": []
    },
    {
      "cell_type": "code",
      "source": [
        "import csv\n",
        "from statistics import mean\n",
        "\n",
        "# usando o metodo translate() para filtrar somente os numeros e retirar os 'na'\n",
        "salario_filtrado2 = []\n",
        "salarios_filtrado1 = list(filter(lambda i: i != 'na', salarios))\n",
        "for i in salarios_filtrado1:\n",
        "  traducao = i.translate(str.maketrans('','', '$K+menos que '))\n",
        "  salario_filtrado2.append(traducao)\n",
        "\n",
        "# trazendo a média de valores nao definidos (exemplo: 60-80)\n",
        "salario_anual = []\n",
        "for i in salario_filtrado2:\n",
        "  if i == '60-80':\n",
        "    # usando metodos replace() na troca\n",
        "    numero = i.replace('60-80',f'{mean([60,80])}')\n",
        "    salario_anual.append(numero)\n",
        "  elif i == '80-120':\n",
        "    numero = i.replace('80-120',f'{mean([80,120])}')\n",
        "    salario_anual.append(numero)\n",
        "  elif i == '40-60':\n",
        "    numero = i.replace('40-60',str(mean([40,60])))\n",
        "    salario_anual.append(numero)\n",
        "  else: salario_anual.append(i)\n",
        "\n",
        "# escrevendo arquivo .csv com as idades e salarios anuais\n",
        "with open('inadimplentes.csv','w', encoding='utf8') as fp:\n",
        "  escrever = csv.writer(fp)\n",
        "  z = zip(idades, salario_anual)\n",
        "  escrever.writerow(['IDADE', 'SALARIO ANUAL'])\n",
        "  escrever.writerows(z)\n",
        "\n",
        "print('inadimplentes.csv GERADO')"
      ],
      "metadata": {
        "colab": {
          "base_uri": "https://localhost:8080/"
        },
        "id": "qbXLk6f7binG",
        "outputId": "84a47ede-4f6b-4935-c400-c7b6f96f9b7d"
      },
      "execution_count": 12,
      "outputs": [
        {
          "output_type": "stream",
          "name": "stdout",
          "text": [
            "inadimplentes.csv GERADO\n"
          ]
        }
      ]
    },
    {
      "cell_type": "markdown",
      "source": [
        "---"
      ],
      "metadata": {
        "id": "C3D2x8CPGUi-"
      }
    },
    {
      "cell_type": "markdown",
      "source": [
        "# Estudos"
      ],
      "metadata": {
        "id": "C0xMoLfCHycK"
      }
    },
    {
      "cell_type": "code",
      "source": [
        "# Dados fictícios de exemplo\n",
        "dados = {\n",
        "    'Produto': ['A', 'A', 'B', 'B'],\n",
        "    'Ano': [2019, 2020, 2019, 2020],\n",
        "    'Vendas': [100, 150, 200, 180]\n",
        "}\n",
        "\n",
        "# Cria um DataFrame a partir dos dados\n",
        "df = pd.DataFrame(dados)\n",
        "print(df.to_string(index=False))"
      ],
      "metadata": {
        "id": "uvjUxbST8MH8"
      },
      "execution_count": null,
      "outputs": []
    }
  ]
}