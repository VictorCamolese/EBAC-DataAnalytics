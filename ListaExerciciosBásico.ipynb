{
  "nbformat": 4,
  "nbformat_minor": 0,
  "metadata": {
    "colab": {
      "provenance": [],
      "collapsed_sections": [
        "AnkLDtZnQShp",
        "oPziyuSLQei5",
        "XGIi0vKbQkTj",
        "Pgi9B97RRI4O",
        "0bc1kXzNQxO-",
        "deTtTue2Q2mD",
        "6Rhu2X9JA9Yk"
      ]
    },
    "kernelspec": {
      "name": "python3",
      "display_name": "Python 3"
    },
    "language_info": {
      "name": "python"
    }
  },
  "cells": [
    {
      "cell_type": "markdown",
      "metadata": {
        "id": "V4qkh6ZeGyPT"
      },
      "source": [
        "# Introdução ao Python - Desafios Práticos"
      ]
    },
    {
      "cell_type": "markdown",
      "source": [
        "# **Exercicio 1**"
      ],
      "metadata": {
        "id": "AnkLDtZnQShp"
      }
    },
    {
      "cell_type": "markdown",
      "metadata": {
        "id": "2Ozq1NGQG7ul"
      },
      "source": [
        "1) Faça um algoritmo que receba d**ois números inteiros**, calcula e exibe a **multiplicação** entre eles"
      ]
    },
    {
      "cell_type": "code",
      "source": [
        "def conta(num1: int, num2: int):\n",
        "  resultado_mult = num1 * num2\n",
        "  return resultado_mult"
      ],
      "metadata": {
        "id": "A0MFOLMtqEDB"
      },
      "execution_count": null,
      "outputs": []
    },
    {
      "cell_type": "code",
      "source": [
        "mult = conta(num1 = 7, num2 = 5)\n",
        "print(mult)\n",
        "\n",
        "par_impar= lambda numero: True if numero % 2 == 0 else False\n",
        "\n",
        "numero = mult\n",
        "if par_impar(numero) == True:\n",
        "  print(\"o resultado é par\")\n",
        "else:\n",
        "    print('o resultado é impar')\n"
      ],
      "metadata": {
        "id": "uhq1aqlxqydP"
      },
      "execution_count": null,
      "outputs": []
    },
    {
      "cell_type": "markdown",
      "source": [
        "# **Exercicio 2**"
      ],
      "metadata": {
        "id": "oPziyuSLQei5"
      }
    },
    {
      "cell_type": "markdown",
      "metadata": {
        "id": "7S5Os_XMHE1M"
      },
      "source": [
        "2) Faça um algoritmo que lê a **base** e a **altura** de um retângulo, calcula e exibe sua **área** (AREA = BASE * ALTURA)"
      ]
    },
    {
      "cell_type": "code",
      "source": [
        "%%writefile lista_quadrados.csv\n",
        "area,id\n",
        "100,1\n",
        "200,2\n",
        "300,3"
      ],
      "metadata": {
        "id": "lZKZSzscHFmg"
      },
      "execution_count": null,
      "outputs": []
    },
    {
      "cell_type": "code",
      "source": [
        "#para adicionar dicts no CSV, importe o DictctWriter\n",
        "from csv import DictWriter\n",
        "headersCSV = ['area','id']\n",
        "\n",
        "try:\n",
        "  \n",
        "  with open(file='lista_quadrados.csv',mode='a',encoding='utf8', newline='') as fp:\n",
        "    \n",
        "    def calc_quadrado(base:int,altura:int):\n",
        "      area = base*altura\n",
        "      return area\n",
        "\n",
        "    area1 = calc_quadrado(base=58,altura=3)\n",
        "    area2 = calc_quadrado(base=60,altura=4)\n",
        "    area3 = calc_quadrado(base=45,altura=7)\n",
        "    \n",
        "    id7 = str('7')\n",
        "    id8 = str('8')\n",
        "    id9 = str('9')\n",
        "    \n",
        "    pessoa1 = {'area': area1,'id': id7}\n",
        "    pessoa2 = {'area': area2,'id': id8}\n",
        "    pessoa3 = {'area': area3,'id': id9}\n",
        "\n",
        "\n",
        "    dictWriter_object = DictWriter(fp, fieldnames = headersCSV)\n",
        "    dictWriter_object.writerow(pessoa1)\n",
        "\n",
        "    dictWriter_object = DictWriter(fp, fieldnames = headersCSV)\n",
        "    dictWriter_object.writerow(pessoa2)\n",
        "\n",
        "    dictWriter_object = DictWriter(fp, fieldnames = headersCSV)\n",
        "    dictWriter_object.writerow(pessoa3)\n",
        "\n",
        "except Exception as exc:\n",
        "  print(exc)\n",
        "  print(type(exc))"
      ],
      "metadata": {
        "id": "9hnkKwlBgjgB"
      },
      "execution_count": null,
      "outputs": []
    },
    {
      "cell_type": "code",
      "source": [
        "with open(file='lista_quadrados.csv',mode='r',encoding='utf8') as fp:\n",
        "  quadrados = fp.read()\n",
        "  print(quadrados)"
      ],
      "metadata": {
        "id": "cSPW8WI-LVaR"
      },
      "execution_count": null,
      "outputs": []
    },
    {
      "cell_type": "markdown",
      "source": [
        "# **Exercicio 3 - Classes**"
      ],
      "metadata": {
        "id": "XGIi0vKbQkTj"
      }
    },
    {
      "cell_type": "markdown",
      "metadata": {
        "id": "9VjMYf7gHLFE"
      },
      "source": [
        "3) Faça um algoritmo que ajude a calcula o **total** de uma compra. Você deverá receber o **preço** de um produto e a **quantidade** adquirida por um cliente. O mesmo deverá calcular e exibir o valor total a ser pago pelo cliente"
      ]
    },
    {
      "cell_type": "code",
      "source": [
        "from random import randint\n",
        "from random import randrange\n",
        "class Cliente:\n",
        "  promo_especial = 70/100\n",
        "  \n",
        "  def __init__(self, nome, produto, quantidade, preco):\n",
        "    self.nome = nome\n",
        "    self.produto = produto\n",
        "    self.quantidade = quantidade\n",
        "    self.preco = preco\n",
        "\n",
        "  def promocao_produto(self):\n",
        "    promo_dict = {}\n",
        "    if self.produto == 'pneu':\n",
        "      if self.quantidade >= 8:\n",
        "        self.promo = (self.preco * self.quantidade) * (80/100) \n",
        "      elif self.quantidade == 4:\n",
        "        self.promo = (self.preco * self.quantidade) * (90/100) \n",
        "      else: self.promo = self.preco * self.quantidade\n",
        "    elif self.produto == 'roda':\n",
        "      if self.quantidade >= 4:\n",
        "        self.promo = (self.preco * self.quantidade) * (85/100) \n",
        "      else: self.promo = self.preco * self.quantidade\n",
        "    else: self.promo = self.preco*self.quantidade\n",
        "    #aqui estamos adicionando o valor total da compra e seu ID em um unico dict\n",
        "    promo_dict['promo'] = self.promo\n",
        "    self.id = self.gerar_id_compra()\n",
        "    promo_dict['id'] = self.id\n",
        "    return promo_dict\n",
        "\n",
        "  @classmethod\n",
        "  def promo_especifica(cls, produto, quantid, preco):\n",
        "    valor_promoc = ((preco * quantid) * cls.promo_especial)/ quantid\n",
        "    valor_promoc = round(valor_promoc, 2)\n",
        "    return print('--> -->',produto,' está em promoção: ',quantid,' unids de ',preco,' por:',valor_promoc,' reais cada!')\n",
        "\n",
        "  def gerar_id_compra(self):\n",
        "    x = randint(1, 10)\n",
        "    y = randrange(11, 20, 2)\n",
        "    self.id = int(str(x)+str(y))\n",
        "    return self.id\n",
        "\n",
        "  #staticmethod - esboço caso necessário\n",
        "  #def gerar_id_compra():\n",
        "  #  x = randint(1, 10)\n",
        "  #  y = randrange(11, 20, 2)\n",
        "  #  id = int(str(x)+str(y))\n",
        "  #  return id\n",
        "\n",
        "  #getter\n",
        "  @property\n",
        "  def preco(self):\n",
        "    return self._preco\n",
        "\n",
        "  #setter\n",
        "  @preco.setter\n",
        "  def preco(self, valor):\n",
        "    if isinstance(valor, str):\n",
        "      valor = float(valor.replace('R$',''))\n",
        "    self._preco = valor\n"
      ],
      "metadata": {
        "id": "dxgqjhXC62l5"
      },
      "execution_count": null,
      "outputs": []
    },
    {
      "cell_type": "code",
      "source": [
        "p1 = Cliente('Jorge','pneu',10,'R$359')\n",
        "p2 = Cliente('Claudio', 'roda',3,250)\n",
        "p3 = Cliente('Ednaldo', 'bolacha',5,2.50)\n",
        "p4 = Cliente('Adilson', 'Rebite',47,123.85)\n",
        "\n",
        "promo1 = Cliente.promo_especifica('Parachoque',4,1299.90)\n",
        "promo2 = Cliente.promo_especifica('Tampa',2,4155.89)\n",
        "promo3 = Cliente.promo_especifica('Cabeçote',3,5789.90)"
      ],
      "metadata": {
        "id": "0J3OkJSrsJ4P",
        "colab": {
          "base_uri": "https://localhost:8080/"
        },
        "outputId": "ec363e89-55e9-4da7-ced3-676d34b55bb4"
      },
      "execution_count": null,
      "outputs": [
        {
          "output_type": "stream",
          "name": "stdout",
          "text": [
            "--> --> Parachoque  está em promoção:  4  unids de  1299.9  por: 909.93  reais cada!\n",
            "--> --> Tampa  está em promoção:  2  unids de  4155.89  por: 2909.12  reais cada!\n",
            "--> --> Cabeçote  está em promoção:  3  unids de  5789.9  por: 4052.93  reais cada!\n"
          ]
        }
      ]
    },
    {
      "cell_type": "code",
      "source": [
        "promo_dict_p1 = p1.promocao_produto()\n",
        "promo_dict_p2 = p2.promocao_produto()\n",
        "promo_dict_p3 = p3.promocao_produto()\n",
        "promo_dict_p4 = p4.promocao_produto()\n",
        "\n",
        "print('Cliente ',p1.nome,' comprou ',p1.quantidade,p1.produto,'(s) de R$',p1.preco,'\\t\\t| ID -',promo_dict_p1['id'])\n",
        "print('Cliente ',p2.nome,' comprou ',p2.quantidade,p2.produto,'(s) de R$',p2.preco,'\\t| ID -',promo_dict_p2['id'])\n",
        "print('Cliente ',p3.nome,' comprou ',p3.quantidade,p3.produto,'(s) de R$',p3.preco,'\\t| ID -',promo_dict_p3['id'])\n",
        "print('Cliente ',p4.nome,' comprou ',p4.quantidade,p4.produto,'(s) de R$',p4.preco,'\\t| ID -',promo_dict_p4['id'])"
      ],
      "metadata": {
        "colab": {
          "base_uri": "https://localhost:8080/"
        },
        "id": "O3lzYL6rTqdl",
        "outputId": "778d4e8d-3f92-4d9e-d926-58aeaf142b33"
      },
      "execution_count": null,
      "outputs": [
        {
          "output_type": "stream",
          "name": "stdout",
          "text": [
            "Cliente  Jorge  comprou  10 pneu (s) de R$ 359.0 \t\t| ID - 1017\n",
            "Cliente  Claudio  comprou  3 roda (s) de R$ 250 \t| ID - 1019\n",
            "Cliente  Ednaldo  comprou  5 bolacha (s) de R$ 2.5 \t| ID - 715\n",
            "Cliente  Adilson  comprou  47 Rebite (s) de R$ 123.85 \t| ID - 613\n"
          ]
        }
      ]
    },
    {
      "cell_type": "code",
      "source": [
        "compras = [promo_dict_p1, promo_dict_p2, promo_dict_p3, promo_dict_p4]\n",
        "for i in compras:\n",
        "  print('Valor total - R$',i['promo'],'   \\t | ID - ',i['id'])"
      ],
      "metadata": {
        "colab": {
          "base_uri": "https://localhost:8080/"
        },
        "id": "RM2Sxne7KCRw",
        "outputId": "3c198188-eaa9-4aaa-ed07-5fa71ee95ebf"
      },
      "execution_count": null,
      "outputs": [
        {
          "output_type": "stream",
          "name": "stdout",
          "text": [
            "Valor total - R$ 2872.0    \t | ID -  1017\n",
            "Valor total - R$ 750    \t | ID -  1019\n",
            "Valor total - R$ 12.5    \t | ID -  715\n",
            "Valor total - R$ 5820.95    \t | ID -  613\n"
          ]
        }
      ]
    },
    {
      "cell_type": "markdown",
      "source": [
        "#  Exercicio 3 - exemplo resoluc"
      ],
      "metadata": {
        "id": "Pgi9B97RRI4O"
      }
    },
    {
      "cell_type": "code",
      "source": [
        "from random import randint\n",
        "from random import randrange\n",
        "\n",
        "class Cliente:\n",
        "  promo_espec = 70/100\n",
        "\n",
        "  def __init__(self, nome, produto, quantidade, preco):\n",
        "    self.nome = nome\n",
        "    self.produto = produto\n",
        "    self.quantidade = quantidade\n",
        "    self.preco = preco\n",
        "\n",
        "  def promocao_produto(self):\n",
        "    promo_dict = {}\n",
        "    if self.produto == 'pneu':\n",
        "      if self.quantidade >= 8:\n",
        "        self.promo = (self.preco * self.quantidade) * (80/100) \n",
        "      elif self.quantidade == 4:\n",
        "        self.promo = (self.preco * self.quantidade) * (90/100) \n",
        "      else: self.promo = self.preco * self.quantidade\n",
        "\n",
        "    elif self.produto == 'roda':\n",
        "      if self.quantidade >= 4:\n",
        "        self.promo = (self.preco * self.quantidade) * (85/100) \n",
        "      else: self.promo = self.preco * self.quantidade\n",
        "\n",
        "    else: self.promo = self.preco*self.quantidade\n",
        "    \n",
        "    promo_dict['promo'] = self.promo\n",
        "    self.id = self.gerar_id_compra()\n",
        "    promo_dict['id'] = self.id\n",
        "\n",
        "    return promo_dict\n",
        "\n",
        "  @classmethod\n",
        "  def promo_especifica(cls, produto, quantid, preco):\n",
        "    valor_promoc = ((preco * quantid) * cls.promo_espec)/ quantid\n",
        "    return print('\\t',produto,' está em promoção: ',quantid,' unids de ',preco,' por:',valor_promoc,' reais cada!')\n",
        "\n",
        "  def gerar_id_compra(self):\n",
        "    x = randint(1, 10)\n",
        "    y = randrange(11, 20, 2)\n",
        "    self.id = int(str(x)+str(y))\n",
        "    return self.id\n",
        "\n",
        "\n",
        "p1 = Cliente('Jorge','pneu',10,350)\n",
        "p2 = Cliente('Claudio', 'roda',3,250)\n",
        "p3 = Cliente('Ednaldo', 'bolacha',5,2.50)\n",
        "\n",
        "\n",
        "\n",
        "print('Cliente ',p1.nome,' comprou ',p1.quantidade,p1.produto,'(s) de R$',p1.preco)\n",
        "promo_dict_p1 = p1.promocao_produto()\n",
        "valor_compras[p1.nome] = promo_dict_p1\n",
        "print('valor a pagar é:',promo_dict_p1['promo'],' reais.\\tID Compra - ',promo_dict_p1['id'],'\\n')\n",
        "\n",
        "print('Cliente ',p2.nome,' comprou ',p2.quantidade,p2.produto,'(s) de R$',p2.preco)\n",
        "promo_dict_p2 = p2.promocao_produto()\n",
        "valor_compras[p2.nome] = promo_dict_p2\n",
        "print('valor a pagar é:',promo_dict_p2['promo'],' reais.\\tID Compra - ',promo_dict_p2['id'],'\\n')\n",
        "\n",
        "print('Cliente ',p3.nome,' comprou ',p3.quantidade,p3.produto,'(s) de R$',p3.preco)\n",
        "promo_dict_p3 = p3.promocao_produto()\n",
        "valor_compras[p3.nome] = promo_dict_p3\n",
        "print('valor a pagar é:',promo_dict_p3['promo'],' reais.\\tID Compra - ',promo_dict_p3['id'],'\\n')\n",
        "\n",
        "promo1 = Cliente.promo_especifica('Parachoque',4,1200)\n",
        "promo2 = Cliente.promo_especifica('Tampa',2,4150)\n",
        "\n",
        "compras = [promo_dict_p1, promo_dict_p2, promo_dict_p3]\n",
        "\n",
        "for compra in compras:\n",
        "  print('Compra - ID:',compra['id'],' | Valor Total:',compra['promo'])\n"
      ],
      "metadata": {
        "id": "bvP3UVbXwMtb"
      },
      "execution_count": null,
      "outputs": []
    },
    {
      "cell_type": "markdown",
      "source": [
        "#**Exercicio 4**"
      ],
      "metadata": {
        "id": "0bc1kXzNQxO-"
      }
    },
    {
      "cell_type": "markdown",
      "metadata": {
        "id": "HKNZOpmSHaYs"
      },
      "source": [
        "4) Faça um algoritmo que receba o ano de **nascimento** da pessoa e o ano atual, retornando qual a idade atual dessa pessoa"
      ]
    },
    {
      "cell_type": "code",
      "source": [
        "%%writefile idades.csv\n",
        "age,id\n",
        "30,1\n",
        "55,2\n",
        "12,3"
      ],
      "metadata": {
        "id": "hDWkw7e63qWV"
      },
      "execution_count": null,
      "outputs": []
    },
    {
      "cell_type": "code",
      "source": [
        "idades=[]\n",
        "with open(file='idades.csv',mode='r',encoding='utf8') as fp:\n",
        "  linha = fp.readline()\n",
        "  linha = fp.readline()\n",
        "  while linha:\n",
        "    linha_sep = linha.split(sep=',')\n",
        "    idade = linha_sep[0]\n",
        "    idade = int(idade)\n",
        "    idades.append(idade)\n",
        "    linha = fp.readline()\n",
        "    \n",
        "  print(idades)"
      ],
      "metadata": {
        "id": "rR9gNJvM4NPX"
      },
      "execution_count": null,
      "outputs": []
    },
    {
      "cell_type": "code",
      "source": [
        "def quantos_anos(nascimento:int, ano_atual:int):\n",
        "  calculo_idade = ano_atual - nascimento\n",
        "  return calculo_idade\n",
        "\n",
        "pessoa1 = quantos_anos(nascimento=1977, ano_atual=2023)\n",
        "pessoa2 = quantos_anos(nascimento=2007, ano_atual=2023)\n",
        "pessoa3 = quantos_anos(nascimento=1940, ano_atual=2023)\n",
        "pessoa4 = quantos_anos(nascimento=2002, ano_atual=2023)\n",
        "\n",
        "pessoa5 = idades[0]\n",
        "pessoa6 = idades[1]\n",
        "pessoa7 = idades[2]\n"
      ],
      "metadata": {
        "id": "L48FP3HPx8-8"
      },
      "execution_count": null,
      "outputs": []
    },
    {
      "cell_type": "code",
      "source": [
        "pessoas = [pessoa1, pessoa2, pessoa3, pessoa4, pessoa5, pessoa6, pessoa7]\n",
        "\n",
        "for i in pessoas:\n",
        "  if i <=20:\n",
        "    print(i,'anos, temos um jovem dinâmico')\n",
        "  elif i <= 50:\n",
        "    print(i,'anos, temos um calvo kkkkk')\n",
        "  else:\n",
        "    print(i,'anos, temos um ser pré-histórico')"
      ],
      "metadata": {
        "id": "e7iGvv-MB9XE"
      },
      "execution_count": null,
      "outputs": []
    },
    {
      "cell_type": "markdown",
      "source": [
        "# **Exercicio 5 - Herança e importando Classe**"
      ],
      "metadata": {
        "id": "deTtTue2Q2mD"
      }
    },
    {
      "cell_type": "markdown",
      "metadata": {
        "id": "LbeL-IKGHjIz"
      },
      "source": [
        "5) Faça um algoritmo que receba 3 notas de um aluno e calcule sua média. Caso o aluno tenha média maior ou igual a 7, deverá ser computado como **APROVADO**. Caso ele tenha média inferior a 7 porém maior que 4, ele irá para **LISTA DE ESPERA**. Do contrário, ele deverá ser computador como **REPROVADO**."
      ]
    },
    {
      "cell_type": "code",
      "source": [
        "from statistics import mean \n",
        "\n",
        "class Candidato:\n",
        "  def __init__(self, nome, nota1, nota2, nota3):\n",
        "    self.nome = nome\n",
        "    self.nota1 = nota1\n",
        "    self.nota2 = nota2\n",
        "    self.nota3 = nota3\n",
        "\n",
        "  def media_candt(self):\n",
        "    n = [self.nota1,self.nota2,self.nota3]\n",
        "    self.media = mean(n)\n",
        "    return round(self.media, 1)\n",
        "\n",
        "  def situacao_candt(self):\n",
        "    situac_cand = str('')\n",
        "    if self.media >= 7:\n",
        "      situac_cand = str('APROVADO')\n",
        "    elif self.media >=4 <=7:\n",
        "      situac_cand = str('LISTA DE ESPERA')\n",
        "    else:\n",
        "      situac_cand = str('REPROVADO')\n",
        "    return situac_cand"
      ],
      "metadata": {
        "id": "I2aOUm13yTCh"
      },
      "execution_count": null,
      "outputs": []
    },
    {
      "cell_type": "code",
      "source": [
        "class Resultado(Candidato):\n",
        "  def __init__(self, nome, nota1, nota2, nota3, nome_esc):\n",
        "    super().__init__(nome=nome, nota1=nota1, nota2=nota2, nota3=nota3)\n",
        "    self.nome_esc = nome_esc\n",
        "\n",
        "  def lista_candt(self):\n",
        "    dados_cand = {}\n",
        "    dados_cand['candidato'] = self.nome\n",
        "\n",
        "    self.media = self.media_candt()\n",
        "    dados_cand['media'] = self.media\n",
        "\n",
        "    dados_cand['escola'] = self.nome_esc\n",
        "    \n",
        "    self.result = self.situacao_candt()\n",
        "    dados_cand['resultado'] = str(self.result)\n",
        "    return dados_cand"
      ],
      "metadata": {
        "id": "ts6QshAL-y6N"
      },
      "execution_count": null,
      "outputs": []
    },
    {
      "cell_type": "code",
      "source": [
        "from classe_candidato import Resultado"
      ],
      "metadata": {
        "id": "liNmKe3az3kn"
      },
      "execution_count": null,
      "outputs": []
    },
    {
      "cell_type": "code",
      "source": [
        "aluno1 = Resultado('Aleki',4.5,9,6,'ESALQ')\n",
        "aluno2 = Resultado('Jorge',8,6.7,10,'UNESP')\n",
        "aluno3 = Resultado('Bunro',2,3.7,1.2,'UDESC')"
      ],
      "metadata": {
        "id": "KKp_IK_V0iuB"
      },
      "execution_count": null,
      "outputs": []
    },
    {
      "cell_type": "code",
      "source": [
        "dados_cand1 = aluno1.lista_candt()\n",
        "dados_cand2 = aluno2.lista_candt()\n",
        "dados_cand3 = aluno3.lista_candt()\n",
        "lista_cand = [dados_cand1,dados_cand2,dados_cand3]\n",
        "\n",
        "#for n in lista_cand:\n",
        "#  print('CANDIDATO:',n['candidato'],'\\t| ESCOLA:',n['escola'],'\\t| PONTUAÇÃO:',n['media'],' \\t| SITUAÇÃO:',n['resultado'])"
      ],
      "metadata": {
        "id": "Ca9pnqISD9kO"
      },
      "execution_count": null,
      "outputs": []
    },
    {
      "cell_type": "code",
      "source": [
        "print('CANDIDATO \\t| ESCOLA \\t| PONTUAÇÃO \\t| SITUAÇÃO')\n",
        "for n in lista_cand:\n",
        "  print(n['candidato'],'  \\t| ',n['escola'],' \\t| ',n['media'],'  \\t| ',n['resultado'])"
      ],
      "metadata": {
        "colab": {
          "base_uri": "https://localhost:8080/"
        },
        "id": "0WHX7WAR5pDb",
        "outputId": "20f0ba5c-80cb-495c-b2e4-6fbcbe3d9e16"
      },
      "execution_count": null,
      "outputs": [
        {
          "output_type": "stream",
          "name": "stdout",
          "text": [
            "CANDIDATO \t| ESCOLA \t| PONTUAÇÃO \t| SITUAÇÃO\n",
            "Aleki   \t|  ESALQ  \t|  6.5   \t|  LISTA DE ESPERA\n",
            "Jorge   \t|  UNESP  \t|  8.2   \t|  APROVADO\n",
            "Bunro   \t|  UDESC  \t|  2.3   \t|  REPROVADO\n"
          ]
        }
      ]
    },
    {
      "cell_type": "markdown",
      "source": [
        "# **Exercício 6**"
      ],
      "metadata": {
        "id": "6Rhu2X9JA9Yk"
      }
    },
    {
      "cell_type": "markdown",
      "metadata": {
        "id": "4zdaSJmGIohW"
      },
      "source": [
        "6) Faça um algoritmo que realize as **4 operações matemáticas** com dois números **decimais**"
      ]
    },
    {
      "cell_type": "markdown",
      "source": [
        "# **Exercício 7** "
      ],
      "metadata": {
        "id": "UDoq9hQU2rFD"
      }
    },
    {
      "cell_type": "markdown",
      "source": [
        "7) Crie uma classe para implementar uma conta corrente. \\\\\n",
        "**Atributos: número da conta, nome do correntista e saldo**; \\\\\n",
        "**Métodos: alterarNome, depósito e saque;** \\\\\n",
        "Saldo é opcional, com valor default zero e os demais atributos são obrigatórios\n",
        "\n",
        "---"
      ],
      "metadata": {
        "id": "zr0WkGid2ywF"
      }
    },
    {
      "cell_type": "markdown",
      "source": [
        "Preparando ambiente:"
      ],
      "metadata": {
        "id": "YlyT1HSMk3r9"
      }
    },
    {
      "cell_type": "code",
      "source": [
        "%%writefile contas.csv\n",
        "CONTA,NOME,SALDO\n",
        "111,Aleki,1000\n",
        "222,Bunro,2000\n",
        "333,Tilambo Cano,3000\n",
        "444,Sujiro Kimicoma,4000"
      ],
      "metadata": {
        "colab": {
          "base_uri": "https://localhost:8080/"
        },
        "id": "CkcEXjfKluI8",
        "outputId": "1e67f4a6-d4ca-4e29-99dd-f2a55a7006df"
      },
      "execution_count": 84,
      "outputs": [
        {
          "output_type": "stream",
          "name": "stdout",
          "text": [
            "Overwriting contas.csv\n"
          ]
        }
      ]
    },
    {
      "cell_type": "code",
      "source": [
        "%%writefile classeConta.py\n",
        "import csv\n",
        "class ContaCorrente():\n",
        "  def __init__(self, num_conta, nome_correntista, saldo=0):\n",
        "    self.num_conta = num_conta\n",
        "    self.nome_correntista = str(nome_correntista)\n",
        "    self.saldo = saldo\n",
        "\n",
        "  def alterarNome(self, novo_nome):\n",
        "    self.nome_correntista = novo_nome\n",
        "    return print('Novo nome definido:',novo_nome)\n",
        "  \n",
        "  def depositoConta(self, valor_deposito):\n",
        "    self.saldo = valor_deposito + self.saldo\n",
        "    return print(self.nome_correntista,'recebeu o depósito de R$',valor_deposito,'\\nSaldo da conta: R$',self.saldo)\n",
        "  \n",
        "  def saqueConta(self, valor_saque):\n",
        "    self.saldo = self.saldo - valor_saque\n",
        "    return print(self.nome_correntista,'fez o saque de R$',valor_saque,'\\nSaldo da conta: R$',self.saldo)\n",
        "\n",
        "  def inserir_no_banco(self):\n",
        "    with open('contas.csv',mode='a',encoding='utf8') as fp:\n",
        "      writer = csv.writer(fp)\n",
        "      writer.writerow([self.num_conta, self.nome_correntista, self.saldo])\n",
        "\n",
        "\n",
        "  def rentabilidade(self, juro_anual=10, anos=10):\n",
        "    print('cliente -',self.nome_correntista,'/ Conta Corrente -',self.num_conta)\n",
        "    print('juros anual de:',juro_anual,'% | juros compostos na duração de',anos,'anos')\n",
        "    juro_anual = juro_anual/100\n",
        "    juro_mensal = juro_anual / 12\n",
        "    anos = anos*12\n",
        "    montante = self.saldo * (1 + juro_mensal)**anos\n",
        "    montante = round(montante, 2)\n",
        "    juros = montante - self.saldo\n",
        "    juros = round(juros, 2)\n",
        "\n",
        "    return print('aplicação: R$',self.saldo,'| valor de rentabilidade estimado: R$',montante,\n",
        "    '\\nvalor de juros: R$',juros,'\\n')   \n"
      ],
      "metadata": {
        "id": "KV1yEF9F3ll4",
        "colab": {
          "base_uri": "https://localhost:8080/"
        },
        "outputId": "19714421-4a47-4405-b70e-c51ce29d2849"
      },
      "execution_count": 85,
      "outputs": [
        {
          "output_type": "stream",
          "name": "stdout",
          "text": [
            "Writing classeConta.py\n"
          ]
        }
      ]
    },
    {
      "cell_type": "markdown",
      "source": [
        "Executando:"
      ],
      "metadata": {
        "id": "irbkFDeQkjyw"
      }
    },
    {
      "cell_type": "code",
      "source": [
        "# Dica do Chat GPT - criando um objeto com uma linha do contas.csv\n",
        "import csv\n",
        "from classeConta import ContaCorrente\n",
        "contas = []\n",
        "\n",
        "with open('contas.csv', mode='r',encoding='utf8') as arquivo:\n",
        "  leitor_csv = csv.reader(arquivo, delimiter=',')\n",
        "  cabecalho = next(leitor_csv) # pular a primeira linha (cabeçalho)\n",
        "  for linha in leitor_csv:\n",
        "    num_conta = int(linha[0])\n",
        "    nome_correntista = linha[1]\n",
        "    saldo = float(linha[2])\n",
        "    conta = ContaCorrente(num_conta, nome_correntista, saldo)\n",
        "    contas.append(conta)"
      ],
      "metadata": {
        "id": "BoAeW2b0SQID"
      },
      "execution_count": 86,
      "outputs": []
    },
    {
      "cell_type": "code",
      "source": [
        "contaLule = ContaCorrente(456,'Lule',150000)\n",
        "contaLule.inserir_no_banco()\n",
        "contaBolso = ContaCorrente(789,'Bolsonario',10000)\n",
        "contaBolso.inserir_no_banco()"
      ],
      "metadata": {
        "id": "fREL140z513U"
      },
      "execution_count": 87,
      "outputs": []
    },
    {
      "cell_type": "code",
      "source": [
        "contas[1].depositoConta(1000)\n",
        "contas[3].saqueConta(299)"
      ],
      "metadata": {
        "id": "FqXWQQvvAB1S",
        "colab": {
          "base_uri": "https://localhost:8080/"
        },
        "outputId": "ece5362d-2bd4-4c73-dc5f-d125e8ded74b"
      },
      "execution_count": 88,
      "outputs": [
        {
          "output_type": "stream",
          "name": "stdout",
          "text": [
            "Bunro recebeu o depósito de R$ 1000 \n",
            "Saldo da conta: R$ 3000.0\n",
            "Sujiro Kimicoma fez o saque de R$ 299 \n",
            "Saldo da conta: R$ 3701.0\n"
          ]
        }
      ]
    },
    {
      "cell_type": "code",
      "source": [
        "contaLule.rentabilidade()"
      ],
      "metadata": {
        "colab": {
          "base_uri": "https://localhost:8080/"
        },
        "id": "3A9xRBdgWYiH",
        "outputId": "8507116c-f26b-4c0b-f34d-3cc70455310d"
      },
      "execution_count": 83,
      "outputs": [
        {
          "output_type": "stream",
          "name": "stdout",
          "text": [
            "cliente - Lule / Conta Corrente - 456\n",
            "juros anual de: 10 % | juros compostos na duração de 10 anos\n",
            "aplicação: R$ 150000 | valor de rentabilidade estimado: R$ 406056.22 \n",
            "valor de juros: R$ 256056.22 \n",
            "\n"
          ]
        }
      ]
    }
  ]
}